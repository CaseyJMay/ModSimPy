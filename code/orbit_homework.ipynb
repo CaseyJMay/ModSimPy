{
 "cells": [
  {
   "cell_type": "code",
   "execution_count": 8,
   "metadata": {},
   "outputs": [],
   "source": [
    "# Configure Jupyter so figures appear in the notebook\n",
    "%matplotlib inline\n",
    "\n",
    "# Configure Jupyter to display the assigned value after an assignment\n",
    "%config InteractiveShell.ast_node_interactivity='last_expr_or_assign'\n",
    "\n",
    "# import functions from the modsim.py module\n",
    "from modsim import *"
   ]
  },
  {
   "cell_type": "code",
   "execution_count": 63,
   "metadata": {},
   "outputs": [
    {
     "data": {
      "text/html": [
       "<div>\n",
       "<style scoped>\n",
       "    .dataframe tbody tr th:only-of-type {\n",
       "        vertical-align: middle;\n",
       "    }\n",
       "\n",
       "    .dataframe tbody tr th {\n",
       "        vertical-align: top;\n",
       "    }\n",
       "\n",
       "    .dataframe thead th {\n",
       "        text-align: right;\n",
       "    }\n",
       "</style>\n",
       "<table border=\"1\" class=\"dataframe\">\n",
       "  <thead>\n",
       "    <tr style=\"text-align: right;\">\n",
       "      <th></th>\n",
       "      <th>values</th>\n",
       "    </tr>\n",
       "  </thead>\n",
       "  <tbody>\n",
       "    <tr>\n",
       "      <th>x</th>\n",
       "      <td>0.000000e+00</td>\n",
       "    </tr>\n",
       "    <tr>\n",
       "      <th>y</th>\n",
       "      <td>1.470000e+11</td>\n",
       "    </tr>\n",
       "    <tr>\n",
       "      <th>vx</th>\n",
       "      <td>3.033000e+04</td>\n",
       "    </tr>\n",
       "    <tr>\n",
       "      <th>vy</th>\n",
       "      <td>0.000000e+00</td>\n",
       "    </tr>\n",
       "  </tbody>\n",
       "</table>\n",
       "</div>"
      ],
      "text/plain": [
       "x     0.000000e+00\n",
       "y     1.470000e+11\n",
       "vx    3.033000e+04\n",
       "vy    0.000000e+00\n",
       "dtype: float64"
      ]
     },
     "execution_count": 63,
     "metadata": {},
     "output_type": "execute_result"
    }
   ],
   "source": [
    "#defining!!!\n",
    "\n",
    "sun_radius = 695508587\n",
    "earth_radius = 6371000\n",
    "\n",
    "init = State(x=0,\n",
    "             y=147e9,\n",
    "             vx=30330,\n",
    "             vy=0)"
   ]
  },
  {
   "cell_type": "code",
   "execution_count": 64,
   "metadata": {},
   "outputs": [
    {
     "data": {
      "text/html": [
       "<div>\n",
       "<style scoped>\n",
       "    .dataframe tbody tr th:only-of-type {\n",
       "        vertical-align: middle;\n",
       "    }\n",
       "\n",
       "    .dataframe tbody tr th {\n",
       "        vertical-align: top;\n",
       "    }\n",
       "\n",
       "    .dataframe thead th {\n",
       "        text-align: right;\n",
       "    }\n",
       "</style>\n",
       "<table border=\"1\" class=\"dataframe\">\n",
       "  <thead>\n",
       "    <tr style=\"text-align: right;\">\n",
       "      <th></th>\n",
       "      <th>values</th>\n",
       "    </tr>\n",
       "  </thead>\n",
       "  <tbody>\n",
       "    <tr>\n",
       "      <th>init</th>\n",
       "      <td>x     0.000000e+00\n",
       "y     1.470000e+11\n",
       "vx    3....</td>\n",
       "    </tr>\n",
       "    <tr>\n",
       "      <th>G</th>\n",
       "      <td>6.674e-11</td>\n",
       "    </tr>\n",
       "    <tr>\n",
       "      <th>m1</th>\n",
       "      <td>1.989e+30</td>\n",
       "    </tr>\n",
       "    <tr>\n",
       "      <th>m2</th>\n",
       "      <td>5.972e+24</td>\n",
       "    </tr>\n",
       "    <tr>\n",
       "      <th>r_end</th>\n",
       "      <td>701879587</td>\n",
       "    </tr>\n",
       "    <tr>\n",
       "      <th>t_end</th>\n",
       "      <td>1e+07</td>\n",
       "    </tr>\n",
       "  </tbody>\n",
       "</table>\n",
       "</div>"
      ],
      "text/plain": [
       "init     x     0.000000e+00\n",
       "y     1.470000e+11\n",
       "vx    3....\n",
       "G                                                6.674e-11\n",
       "m1                                               1.989e+30\n",
       "m2                                               5.972e+24\n",
       "r_end                                            701879587\n",
       "t_end                                                1e+07\n",
       "dtype: object"
      ]
     },
     "execution_count": 64,
     "metadata": {},
     "output_type": "execute_result"
    }
   ],
   "source": [
    "system = System (init=init,\n",
    "                G= 6.674e-11, #* N / kg**2 * m**2,\n",
    "                m1  = 1.989e30, #* kg,\n",
    "                m2 =  5.972e24, #* kg\n",
    "                r_end = sun_radius + earth_radius,\n",
    "                t_end = 1e7, #*s\n",
    "                )"
   ]
  },
  {
   "cell_type": "code",
   "execution_count": 65,
   "metadata": {},
   "outputs": [],
   "source": [
    "def universal_gravitation(state, system):\n",
    "    x,y,vx,vy = state\n",
    "    unpack(system)\n",
    "    direction = Vector(-x, -y)\n",
    "    force = (G*m1*m2)/(x**2+y**2)\n",
    "    gravity = force * direction.hat()\n",
    "    return gravity"
   ]
  },
  {
   "cell_type": "code",
   "execution_count": 66,
   "metadata": {},
   "outputs": [
    {
     "data": {
      "text/html": [
       "[-0.0000000e+00 -3.6686486e+22] dimensionless"
      ],
      "text/latex": [
       "$[-0.0000000e+00 -3.6686486e+22] dimensionless$"
      ],
      "text/plain": [
       "<Quantity([-0.0000000e+00 -3.6686486e+22], 'dimensionless')>"
      ]
     },
     "execution_count": 66,
     "metadata": {},
     "output_type": "execute_result"
    }
   ],
   "source": [
    "universal_gravitation(init, system)"
   ]
  },
  {
   "cell_type": "code",
   "execution_count": 67,
   "metadata": {},
   "outputs": [],
   "source": [
    "def slope_func(state, t, system):\n",
    "    x,y,vx,vy = state \n",
    "    unpack(system)\n",
    "    v = Vector(vx, vy)\n",
    "    force = universal_gravitation(state,system)\n",
    "    \n",
    "    dxdt = vx\n",
    "    dydt = vy\n",
    "    dvxdt = force.x / m2\n",
    "    dvydt = force.y / m2\n",
    "    \n",
    "    \n",
    "    return dxdt, dydt, dvxdt, dvydt"
   ]
  },
  {
   "cell_type": "code",
   "execution_count": 68,
   "metadata": {},
   "outputs": [
    {
     "data": {
      "text/plain": [
       "(30330.0,\n",
       " 0.0,\n",
       " <Quantity(-0.0, 'dimensionless')>,\n",
       " <Quantity(-0.006143082049146188, 'dimensionless')>)"
      ]
     },
     "execution_count": 68,
     "metadata": {},
     "output_type": "execute_result"
    }
   ],
   "source": [
    "slope_func(init, 0, system)"
   ]
  },
  {
   "cell_type": "code",
   "execution_count": 69,
   "metadata": {},
   "outputs": [],
   "source": [
    "#def event_func(state, t, system):\n",
    "    #r,v = state\n",
    "    #return r - system.r_end"
   ]
  },
  {
   "cell_type": "code",
   "execution_count": 70,
   "metadata": {},
   "outputs": [
    {
     "data": {
      "image/png": "[encoded data removed]",
      "text/plain": [
       "<Figure size 432x288 with 1 Axes>"
      ]
     },
     "metadata": {
      "needs_background": "light"
     },
     "output_type": "display_data"
    }
   ],
   "source": [
    "results, details = run_ode_solver(system, slope_func)\n",
    "results.index /= 60*60*24\n",
    "results.y /= 1e9\n",
    "plot(results.y)\n",
    "decorate(xlabel = 'Time (Days)',\n",
    "         ylabel = 'Distance from the Sun (Millions of Km)')\n"
   ]
  },
  {
   "cell_type": "code",
   "execution_count": 71,
   "metadata": {},
   "outputs": [
    {
     "name": "stdout",
     "output_type": "stream",
     "text": [
      "115.74074074074075 days\n"
     ]
    }
   ],
   "source": [
    "t_event = get_last_label(results) \n",
    "print(t_event, \"days\")"
   ]
  },
  {
   "cell_type": "code",
   "execution_count": null,
   "metadata": {},
   "outputs": [],
   "source": []
  },
  {
   "cell_type": "code",
   "execution_count": null,
   "metadata": {},
   "outputs": [],
   "source": []
  },
  {
   "cell_type": "code",
   "execution_count": null,
   "metadata": {},
   "outputs": [],
   "source": []
  },
  {
   "cell_type": "code",
   "execution_count": null,
   "metadata": {},
   "outputs": [],
   "source": []
  },
  {
   "cell_type": "code",
   "execution_count": null,
   "metadata": {},
   "outputs": [],
   "source": []
  },
  {
   "cell_type": "code",
   "execution_count": null,
   "metadata": {},
   "outputs": [],
   "source": []
  },
  {
   "cell_type": "code",
   "execution_count": null,
   "metadata": {},
   "outputs": [],
   "source": []
  },
  {
   "cell_type": "code",
   "execution_count": null,
   "metadata": {},
   "outputs": [],
   "source": []
  }
 ],
 "metadata": {
  "kernelspec": {
   "display_name": "Python 3",
   "language": "python",
   "name": "python3"
  },
  "language_info": {
   "codemirror_mode": {
    "name": "ipython",
    "version": 3
   },
   "file_extension": ".py",
   "mimetype": "text/x-python",
   "name": "python",
   "nbconvert_exporter": "python",
   "pygments_lexer": "ipython3",
   "version": "3.6.6"
  }
 },
 "nbformat": 4,
 "nbformat_minor": 2
}
