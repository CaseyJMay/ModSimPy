{
 "cells": [
  {
   "cell_type": "code",
   "execution_count": 125,
   "metadata": {},
   "outputs": [],
   "source": [
    "# Configure Jupyter so figures appear in the notebook\n",
    "%matplotlib inline\n",
    "\n",
    "# Configure Jupyter to display the assigned value after an assignment\n",
    "%config InteractiveShell.ast_node_interactivity='last_expr_or_assign'\n",
    "\n",
    "# import functions from the modsim.py module\n",
    "from modsim import *\n"
   ]
  },
  {
   "cell_type": "markdown",
   "metadata": {},
   "source": [
    "## Question \n",
    "How long would it take for Olin to reach 50 total chronically infected lyme students, and crack under the pressure of bad publicity?"
   ]
  },
  {
   "cell_type": "markdown",
   "metadata": {},
   "source": [
    "##### Assumptions: \n",
    "Our model assumed many questionable things. The most glaring of these is the assumption that Olin students will be trapped at Olin infinitely, and no new olin students will EVER be accepted to the school ever again. The model also assumed that the rates of infection dont change from year to year. We also made the assumption that people would live for over 200 years. Probably the most reasonable assumption we make is that Olin will still exist for the next few hundred years. These assumptions are mostly bad and definitely just to make the process of making the model reasonable. They are generally not assumptions that we would have made outside of this class project. "
   ]
  },
  {
   "cell_type": "code",
   "execution_count": 126,
   "metadata": {},
   "outputs": [],
   "source": [
    "\"\"\"\n",
    "beta = Human-infectedtick contact level\n",
    "gamma = infection likelihood after contact\n",
    "alpha = recovery rate\n",
    "delta = chance of full recovery \n",
    "dt = timestep\n",
    "\"\"\"\n",
    "def make_system(beta, gamma, alpha, delta, dt):\n",
    "    \"\"\"\n",
    "    Make a system object for the SIR model.\n",
    "    \n",
    "    beta: Human-infectedtick contact level\n",
    "    gamma: infection likelihood after contact\n",
    "    \n",
    "    returns: System object\n",
    "    \"\"\"\n",
    "\n",
    "    t0 = 0\n",
    "    t_end = 10000\n",
    "\n",
    "    return System( t0=t0, t_end=t_end, alpha=alpha,\n",
    "                  beta=beta, gamma=gamma, delta=delta, dt = dt)\n",
    "\n"
   ]
  },
  {
   "cell_type": "markdown",
   "metadata": {},
   "source": []
  },
  {
   "cell_type": "code",
   "execution_count": 127,
   "metadata": {},
   "outputs": [
    {
     "data": {
      "text/plain": [
       "0"
      ]
     },
     "execution_count": 127,
     "metadata": {},
     "output_type": "execute_result"
    }
   ],
   "source": [
    "def make_state(S, I, R, C, T):\n",
    "    init = State(S=S, I=I, R=R, C=C, T=T)\n",
    "    return init\n",
    "\n",
    "End_Time = 0"
   ]
  },
  {
   "cell_type": "code",
   "execution_count": 128,
   "metadata": {},
   "outputs": [],
   "source": [
    "def update_func(state, t, system):\n",
    "    \"\"\"Update the SIR model.\n",
    "    \n",
    "    state: State (s, i, r, c, t)\n",
    "    t: time\n",
    "    system: System object\n",
    "    \n",
    "    returns: State (sirct)\n",
    "    \"\"\"\n",
    "    s, i, r, c, t = state\n",
    "    \n",
    "    #creating differential equations representing the flows\n",
    "    ds =  - (system.beta *system.gamma *s)\n",
    "    di = system.beta * system.gamma *s - (system.alpha * i)\n",
    "    dr = system.alpha * i * system.delta\n",
    "    dc = system.alpha * i * (1- system.delta)\n",
    "    \n",
    "    s += ds * system.dt\n",
    "    i += di * system.dt\n",
    "    r += dr * system.dt\n",
    "    c += dc * system.dt\n",
    "    t += dt\n",
    "    \n",
    "    return State(S=s, I=i, R=r, C=c, T=t)"
   ]
  },
  {
   "cell_type": "code",
   "execution_count": 129,
   "metadata": {},
   "outputs": [],
   "source": [
    "def run_simulation(system, update_func):\n",
    "    \"\"\"Runs a simulation of the system.\n",
    "        \n",
    "    system: System object\n",
    "    update_func: function that updates state\n",
    "    \n",
    "    returns: TimeFrame\n",
    "    \"\"\"\n",
    "    unpack(system)\n",
    "   \n",
    "    frame = TimeFrame(columns=init.index)\n",
    "    frame.row[t0] = init\n",
    "    \n",
    "    for t in linrange(t0, t_end):\n",
    "        frame.row[t+1] = update_func(frame.row[t], t, system)\n",
    "        if frame.row[t+1].C > 50:\n",
    "            break\n",
    "    \n",
    "    return frame"
   ]
  },
  {
   "cell_type": "code",
   "execution_count": 130,
   "metadata": {},
   "outputs": [
    {
     "name": "stdout",
     "output_type": "stream",
     "text": [
      "S    350\n",
      "I      0\n",
      "R      0\n",
      "C      0\n",
      "T      0\n",
      "dtype: int64\n"
     ]
    },
    {
     "data": {
      "text/html": [
       "<div>\n",
       "<style scoped>\n",
       "    .dataframe tbody tr th:only-of-type {\n",
       "        vertical-align: middle;\n",
       "    }\n",
       "\n",
       "    .dataframe tbody tr th {\n",
       "        vertical-align: top;\n",
       "    }\n",
       "\n",
       "    .dataframe thead th {\n",
       "        text-align: right;\n",
       "    }\n",
       "</style>\n",
       "<table border=\"1\" class=\"dataframe\">\n",
       "  <thead>\n",
       "    <tr style=\"text-align: right;\">\n",
       "      <th></th>\n",
       "      <th>S</th>\n",
       "      <th>I</th>\n",
       "      <th>R</th>\n",
       "      <th>C</th>\n",
       "      <th>T</th>\n",
       "    </tr>\n",
       "  </thead>\n",
       "  <tbody>\n",
       "    <tr>\n",
       "      <th>0.0</th>\n",
       "      <td>350</td>\n",
       "      <td>0</td>\n",
       "      <td>0</td>\n",
       "      <td>0</td>\n",
       "      <td>0</td>\n",
       "    </tr>\n",
       "    <tr>\n",
       "      <th>1.0</th>\n",
       "      <td>345.644</td>\n",
       "      <td>4.3561</td>\n",
       "      <td>0</td>\n",
       "      <td>0</td>\n",
       "      <td>1</td>\n",
       "    </tr>\n",
       "    <tr>\n",
       "      <th>2.0</th>\n",
       "      <td>341.342</td>\n",
       "      <td>-0.054216</td>\n",
       "      <td>7.40537</td>\n",
       "      <td>1.30683</td>\n",
       "      <td>2</td>\n",
       "    </tr>\n",
       "    <tr>\n",
       "      <th>3.0</th>\n",
       "      <td>337.094</td>\n",
       "      <td>4.30256</td>\n",
       "      <td>7.3132</td>\n",
       "      <td>1.29057</td>\n",
       "      <td>3</td>\n",
       "    </tr>\n",
       "    <tr>\n",
       "      <th>4.0</th>\n",
       "      <td>332.898</td>\n",
       "      <td>-0.107091</td>\n",
       "      <td>14.6276</td>\n",
       "      <td>2.58133</td>\n",
       "      <td>4</td>\n",
       "    </tr>\n",
       "  </tbody>\n",
       "</table>\n",
       "</div>"
      ],
      "text/plain": [
       "           S         I        R        C  T\n",
       "0.0      350         0        0        0  0\n",
       "1.0  345.644    4.3561        0        0  1\n",
       "2.0  341.342 -0.054216  7.40537  1.30683  2\n",
       "3.0  337.094   4.30256   7.3132  1.29057  3\n",
       "4.0  332.898 -0.107091  14.6276  2.58133  4"
      ]
     },
     "execution_count": 130,
     "metadata": {},
     "output_type": "execute_result"
    }
   ],
   "source": [
    "init = make_state(350,0,0,0,0)\n",
    "print (init)\n",
    "\n",
    "system = make_system(.254, 0.049, 2, .85, 1)\n",
    "results = run_simulation(system, update_func)\n",
    "results.head() \n",
    "\n",
    "\"\"\"\n",
    "\n",
    "We were able to collect almost all of our data\n",
    "from the CDC's records on Ticks in Massachusetts. \n",
    "We struggled when it came to finding data on how \n",
    "often Oliner's had a Tick scare every year. Instead\n",
    "of making up numbers we sent out a survey on the \n",
    "'HelpMe' mailing list, recieving just under 50 \n",
    "responses.\n",
    "\n",
    "\n",
    "\"\"\"\n",
    "\n"
   ]
  },
  {
   "cell_type": "code",
   "execution_count": 136,
   "metadata": {},
   "outputs": [],
   "source": [
    "def plot_results(S, I, R, C):\n",
    "    \"\"\"Plot the results of a SIR model.\n",
    "    \n",
    "    S: TimeSeries\n",
    "    I: TimeSeries\n",
    "    \"\"\"\n",
    "    plot(S, '--', label='Susceptible')\n",
    "    plot(I, '-', label='Infected')\n",
    "    plot(R, ':', label='Recovered')\n",
    "    plot(C, label= 'Chronic')\n",
    "    decorate(xlabel='Time (years)',\n",
    "             ylabel='Number of Olin Students')"
   ]
  },
  {
   "cell_type": "code",
   "execution_count": 137,
   "metadata": {
    "scrolled": true
   },
   "outputs": [
    {
     "data": {
      "image/png": "[encoded data removed]",
      "text/plain": [
       "<Figure size 432x288 with 1 Axes>"
      ]
     },
     "metadata": {
      "needs_background": "light"
     },
     "output_type": "display_data"
    }
   ],
   "source": [
    "plot_results(results.S, results.I, results.R, results.C)"
   ]
  },
  {
   "cell_type": "code",
   "execution_count": 138,
   "metadata": {},
   "outputs": [
    {
     "name": "stdout",
     "output_type": "stream",
     "text": [
      "0.0        0\n",
      "1.0        1\n",
      "2.0        2\n",
      "3.0        3\n",
      "4.0        4\n",
      "5.0        5\n",
      "6.0        6\n",
      "7.0        7\n",
      "8.0        8\n",
      "9.0        9\n",
      "10.0      10\n",
      "11.0      11\n",
      "12.0      12\n",
      "13.0      13\n",
      "14.0      14\n",
      "15.0      15\n",
      "16.0      16\n",
      "17.0      17\n",
      "18.0      18\n",
      "19.0      19\n",
      "20.0      20\n",
      "21.0      21\n",
      "22.0      22\n",
      "23.0      23\n",
      "24.0      24\n",
      "25.0      25\n",
      "26.0      26\n",
      "27.0      27\n",
      "28.0      28\n",
      "29.0      29\n",
      "        ... \n",
      "205.0    205\n",
      "206.0    206\n",
      "207.0    207\n",
      "208.0    208\n",
      "209.0    209\n",
      "210.0    210\n",
      "211.0    211\n",
      "212.0    212\n",
      "213.0    213\n",
      "214.0    214\n",
      "215.0    215\n",
      "216.0    216\n",
      "217.0    217\n",
      "218.0    218\n",
      "219.0    219\n",
      "220.0    220\n",
      "221.0    221\n",
      "222.0    222\n",
      "223.0    223\n",
      "224.0    224\n",
      "225.0    225\n",
      "226.0    226\n",
      "227.0    227\n",
      "228.0    228\n",
      "229.0    229\n",
      "230.0    230\n",
      "231.0    231\n",
      "232.0    232\n",
      "233.0    233\n",
      "234.0    234\n",
      "Name: T, Length: 235, dtype: object\n"
     ]
    }
   ],
   "source": [
    "print (results.T)"
   ]
  },
  {
   "cell_type": "markdown",
   "metadata": {},
   "source": [
    "# Results:\n",
    "Our model predicts that it would take 235 years for there to be 50 chronic cases of Lyme disease at Olin, and therefore for Olin to sink under the weight of the bad press. We measured this by limiting the function to stop whenever the chronic stock got to 50 total Oliners. We printed the final time to determine what year the number reached over 50. \n",
    "\n"
   ]
  },
  {
   "cell_type": "markdown",
   "metadata": {},
   "source": [
    "### Limitations: \n",
    "There were several obvious limitations to our model. The most obvious of these in our minds is the fact that our data was not discrete and instead used continuous data, which was very obvious when it came to our infected count. It got the job done, because it reasonably accurately represented the rate at which people were being infected, but the amount of actively infected people generally hung very close to zero, and only accurately represented the rate by total sum. Also, the information would be useful, but it would only be very useful if people could live much longer and we could eliminate tons of factors we didn't account for. \n",
    "\n",
    "### Iteration:\n",
    "Iteration was also a vital part of our process. The most important iteration that took place involved our question. Our question went through many variations, including forms that were more complicated, more simple, not even an SIR model, and plenty that just didn't make much sense. After we took out the positives from each of our models we combined them to make one more effective question that was still interesting. "
   ]
  },
  {
   "cell_type": "markdown",
   "metadata": {},
   "source": [
    "# Abstract\n",
    "\n",
    "Question - How long would it take for Olin to reach 50 total chronically infected Lyme Disease students, and crack under the pressure of bad publicity?\n",
    "\n",
    "Answer? - It would take 234 years before olin saw 50 total chronic cases of Lyme Disease in students.\n",
    "\n",
    "Our final graph is able to show clearly the drop in susceptible students and the corresponding increase in chronic and recovered cases. The line representing chronic cases increases slowly over 234 years until it reaches 50."
   ]
  }
 ],
 "metadata": {
  "kernelspec": {
   "display_name": "Python 3",
   "language": "python",
   "name": "python3"
  },
  "language_info": {
   "codemirror_mode": {
    "name": "ipython",
    "version": 3
   },
   "file_extension": ".py",
   "mimetype": "text/x-python",
   "name": "python",
   "nbconvert_exporter": "python",
   "pygments_lexer": "ipython3",
   "version": "3.6.6"
  }
 },
 "nbformat": 4,
 "nbformat_minor": 2
}
